{
 "cells": [
  {
   "cell_type": "markdown",
   "id": "e87a19b5",
   "metadata": {},
   "source": [
    "# Import libraries"
   ]
  },
  {
   "cell_type": "code",
   "execution_count": 3,
   "id": "b5372a2f",
   "metadata": {},
   "outputs": [],
   "source": [
    "%reload_ext autoreload\n",
    "%autoreload 2\n",
    "import os\n",
    "import csv\n",
    "import numpy as np\n",
    "import function as func\n",
    "import datetime\n",
    "import matplotlib.pyplot as plt\n",
    "# set colorful lines\n",
    "cmap = plt.get_cmap('jet')\n",
    "plt.rcParams['font.size'] = 18\n",
    "np.set_printoptions(threshold=20)"
   ]
  },
  {
   "cell_type": "markdown",
   "id": "8d8a2a87",
   "metadata": {},
   "source": [
    "# Setting"
   ]
  },
  {
   "cell_type": "code",
   "execution_count": 4,
   "id": "5eea8bc3",
   "metadata": {},
   "outputs": [],
   "source": [
    "outdir = './output/77K_compare'\n",
    "if not os.path.isdir(outdir):\n",
    "    os.mkdir(outdir)\n",
    "    pass"
   ]
  },
  {
   "cell_type": "code",
   "execution_count": 6,
   "id": "444035eb",
   "metadata": {},
   "outputs": [
    {
     "ename": "TypeError",
     "evalue": "read_data() got an unexpected keyword argument 'rbw'",
     "output_type": "error",
     "traceback": [
      "\u001b[0;31m---------------------------------------------------------------------------\u001b[0m",
      "\u001b[0;31mTypeError\u001b[0m                                 Traceback (most recent call last)",
      "\u001b[0;32m/tmp/ipykernel_1437506/605723531.py\u001b[0m in \u001b[0;36m<module>\u001b[0;34m\u001b[0m\n\u001b[1;32m      6\u001b[0m \u001b[0mbinwidth\u001b[0m \u001b[0;34m=\u001b[0m \u001b[0;36m1e+6\u001b[0m\u001b[0;34m\u001b[0m\u001b[0;34m\u001b[0m\u001b[0m\n\u001b[1;32m      7\u001b[0m \u001b[0;34m\u001b[0m\u001b[0m\n\u001b[0;32m----> 8\u001b[0;31m data1 = func.read_data(\n\u001b[0m\u001b[1;32m      9\u001b[0m      \u001b[0mfreq_min\u001b[0m\u001b[0;34m,\u001b[0m \u001b[0mfreq_max\u001b[0m\u001b[0;34m,\u001b[0m \u001b[0mnRun\u001b[0m\u001b[0;34m=\u001b[0m\u001b[0;36m1\u001b[0m\u001b[0;34m,\u001b[0m\u001b[0;34m\u001b[0m\u001b[0;34m\u001b[0m\u001b[0m\n\u001b[1;32m     10\u001b[0m      \u001b[0mdatadir\u001b[0m\u001b[0;34m=\u001b[0m\u001b[0;34m'/data/ms2840a/dosue-j/yfactor_77K_fin/2023-03'\u001b[0m\u001b[0;34m,\u001b[0m\u001b[0;34m\u001b[0m\u001b[0;34m\u001b[0m\u001b[0m\n",
      "\u001b[0;31mTypeError\u001b[0m: read_data() got an unexpected keyword argument 'rbw'"
     ]
    }
   ],
   "source": [
    "freq_min = 14.4\n",
    "freq_max = 14.5\n",
    "doRebin = True # Rebinning in dat_to_array\n",
    "rebinmethod = 0 # consider bin edges\n",
    "rbw = 300\n",
    "binwidth = 1e+6\n",
    "\n",
    "data1 = func.read_data(\n",
    "     freq_min, freq_max, nRun=1,\n",
    "     datadir='/data/ms2840a/dosue-j/yfactor_77K_fin/2023-03',\n",
    "     dataprefix='scan_FFT_',\n",
    "     datasuffix='GHz_span2.50MHz_rbw300Hz_2.0sec_1counts_1runs',\n",
    "     binary_data=True, rbw=rbw,\n",
    "     doRebin=doRebin, rebinmethod=rebinmethod, binwidth=binwidth,\n",
    "     onlyAverage=True, cutEdges=True, flatten=True)\n",
    "\n",
    "data2 = func.read_data(\n",
    "     freq_min, freq_max, nRun=1,\n",
    "     datadir='/data/ms2840a/dosue-j/yfactor_77K_fin/2023-03-13',\n",
    "     dataprefix='scan_FFT_',\n",
    "     datasuffix='GHz_span2.50MHz_rbw300Hz_2.0sec_1counts_1runs',\n",
    "     binary_data=True, rbw=rbw,\n",
    "     doRebin=doRebin, rebinmethod=rebinmethod, binwidth=binwidth,\n",
    "     onlyAverage=True, cutEdges=True, flatten=True)"
   ]
  },
  {
   "cell_type": "code",
   "execution_count": null,
   "id": "deb9af89",
   "metadata": {},
   "outputs": [],
   "source": [
    "freq1, W1, Werr1 = data1[0], data1[1], data1[2]\n",
    "freq2, W2, Werr2 = data2[0], data2[1], data2[2]\n",
    "\n",
    "plt.rcParams[\"font.size\"] = 15\n",
    "fig, axes = plt.subplots(2,1,figsize=(20,10), squeeze=False, sharex=True)\n",
    "\n",
    "ax = axes[0][0]\n",
    "ax.scatter(freq1*1e-9, W1*1e-18, c='tab:blue', label='First 77K')\n",
    "ax.scatter(freq2*1e-9, W2*1e-18, c='tab:red', label='Second 77K')\n",
    "ax.set_xlim([_freq_min, _freq_max])\n",
    "ax.set_ylabel('Power [aW]')\n",
    "ax.grid(True)\n",
    "\n",
    "ax = axes[1][0]\n",
    "ax.scatter(freq1*1e-9, W2/W1, c='tab:red', label='Second/First')\n",
    "ax.plot([0,100],[1,1], c='k', lw=1)\n",
    "ax.set_xlim([_freq_min, _freq_max])\n",
    "ax.set_ylabel('Ratio')\n",
    "ax.set_xlabel('Frequency [GHz]')\n",
    "ax.grid(True)"
   ]
  }
 ],
 "metadata": {
  "kernelspec": {
   "display_name": "Python 3 (ipykernel)",
   "language": "python",
   "name": "python3"
  },
  "language_info": {
   "codemirror_mode": {
    "name": "ipython",
    "version": 3
   },
   "file_extension": ".py",
   "mimetype": "text/x-python",
   "name": "python",
   "nbconvert_exporter": "python",
   "pygments_lexer": "ipython3",
   "version": "3.8.10"
  },
  "toc": {
   "base_numbering": 1,
   "nav_menu": {},
   "number_sections": true,
   "sideBar": true,
   "skip_h1_title": false,
   "title_cell": "Table of Contents",
   "title_sidebar": "Contents",
   "toc_cell": false,
   "toc_position": {
    "height": "calc(100% - 180px)",
    "left": "10px",
    "top": "150px",
    "width": "384px"
   },
   "toc_section_display": true,
   "toc_window_display": true
  }
 },
 "nbformat": 4,
 "nbformat_minor": 5
}
