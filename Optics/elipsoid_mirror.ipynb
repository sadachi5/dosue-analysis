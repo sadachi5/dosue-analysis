{
 "cells": [
  {
   "cell_type": "code",
   "execution_count": null,
   "id": "7d40be84",
   "metadata": {},
   "outputs": [],
   "source": [
    "%reload_ext autoreload\n",
    "%autoreload 2\n",
    "from elipsolid_mirror import *"
   ]
  },
  {
   "cell_type": "code",
   "execution_count": null,
   "id": "aab17d5f",
   "metadata": {},
   "outputs": [],
   "source": [
    "def plot_beamwaist(w0=5*mm, zmax=100*cm, freq=200*GHz):\n",
    "    wavelength = calc_wavelength(freq)\n",
    "    \n",
    "    z_list = np.linespace(0., zmax, 1*cm)\n",
    "    w_list = calc_waist"
   ]
  }
 ],
 "metadata": {
  "kernelspec": {
   "display_name": "Python 3 (ipykernel)",
   "language": "python",
   "name": "python3"
  },
  "language_info": {
   "codemirror_mode": {
    "name": "ipython",
    "version": 3
   },
   "file_extension": ".py",
   "mimetype": "text/x-python",
   "name": "python",
   "nbconvert_exporter": "python",
   "pygments_lexer": "ipython3",
   "version": "3.8.10"
  },
  "toc": {
   "base_numbering": 1,
   "nav_menu": {},
   "number_sections": true,
   "sideBar": false,
   "skip_h1_title": false,
   "title_cell": "Table of Contents",
   "title_sidebar": "Contents",
   "toc_cell": false,
   "toc_position": {},
   "toc_section_display": true,
   "toc_window_display": false
  }
 },
 "nbformat": 4,
 "nbformat_minor": 5
}
