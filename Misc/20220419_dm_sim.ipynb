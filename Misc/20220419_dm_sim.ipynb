{
 "cells": [
  {
   "cell_type": "code",
   "execution_count": 2,
   "metadata": {},
   "outputs": [],
   "source": [
    "import numpy as np\n",
    "import matplotlib.pyplot as plt\n",
    "\n",
    "SEED = 0\n",
    "rs = np.random.RandomState(SEED)"
   ]
  },
  {
   "cell_type": "markdown",
   "metadata": {},
   "source": [
    "# Simulation setup\n",
    "\n",
    "- Ref: Guo, H. K., Riles, K., Yang, F. W., & Zhao, Y. (2019). Searching for dark photon dark matter in LIGO O1 data. Communications Physics, 2(1). https://doi.org/10.1038/s42005-019-0255-0\n",
    "    - Simulation is described in the 'Methods' section of the article.\n",
    "\n",
    "- Velocity dispersion\n",
    "$f(v) \\sim v^2 e^{-v^2/v_0^2} $\n",
    "    - $v_0 = 0.77 \\times 10^{-3} c$"
   ]
  },
  {
   "cell_type": "code",
   "execution_count": 3,
   "metadata": {},
   "outputs": [
    {
     "data": {
      "text/plain": [
       "Text(0.5, 0, 'Speed**2 [$10^{-6}c^2$]')"
      ]
     },
     "execution_count": 3,
     "metadata": {},
     "output_type": "execute_result"
    },
    {
     "data": {
      "image/png": "[encoded data removed]",
      "text/plain": [
       "<Figure size 432x288 with 1 Axes>"
      ]
     },
     "metadata": {
      "needs_background": "light"
     },
     "output_type": "display_data"
    }
   ],
   "source": [
    "N_DP = 1000\n",
    "\n",
    "v_0 = 0.77e-3\n",
    "# 3-D gaussian\n",
    "v_vec = rs.normal(loc=0, scale=v_0, size=(N_DP,3))\n",
    "# velocity ^2\n",
    "v2 = (v_vec**2).sum(axis=1)\n",
    "# |vlocity|\n",
    "v = np.sqrt(v2)\n",
    "\n",
    "_ = plt.hist(v2*1e6, bins=100)\n",
    "plt.xlabel(r'Speed**2 [$10^{-6}c^2$]')"
   ]
  },
  {
   "cell_type": "code",
   "execution_count": 4,
   "metadata": {},
   "outputs": [],
   "source": [
    "# (V_x, V_y)\n",
    "v_xy = np.sqrt((v_vec[:,:2]**2).sum(axis=1))\n",
    "# V_z\n",
    "v_z = v_vec[:,2]"
   ]
  },
  {
   "cell_type": "code",
   "execution_count": 8,
   "metadata": {},
   "outputs": [
    {
     "name": "stdout",
     "output_type": "stream",
     "text": [
      "0.06239187755220373\n"
     ]
    }
   ],
   "source": [
    "def get_beta(v, v_xy, v_z):\n",
    "    alpha = np.arctan(v_xy/v_z)\n",
    "    sinbeta = np.sin(alpha) * v/np.sqrt(1+v**2)\n",
    "    beta = np.arcsin(sinbeta)\n",
    "    return beta\n",
    "print(get_beta(v_0*np.sqrt(3.), v_0*np.sqrt(2.), v_0)*180./np.pi)\n",
    "beta = get_beta(v, v_xy, v_z)"
   ]
  },
  {
   "cell_type": "code",
   "execution_count": 37,
   "metadata": {},
   "outputs": [
    {
     "data": {
      "image/png": "[encoded data removed]",
      "text/plain": [
       "<Figure size 432x288 with 1 Axes>"
      ]
     },
     "metadata": {
      "needs_background": "light"
     },
     "output_type": "display_data"
    }
   ],
   "source": [
    "_ = plt.hist(beta*360/2/np.pi, bins=100)\n",
    "plt.xlabel('Angle [$^\\circ$]')\n",
    "plt.ylabel('Entry')\n",
    "plt.tight_layout()\n",
    "plt.savefig('angle_dist.pdf')\n",
    "plt.savefig('angle_dist.png', dpi=144)"
   ]
  },
  {
   "cell_type": "code",
   "execution_count": 18,
   "metadata": {},
   "outputs": [
    {
     "data": {
      "text/plain": [
       "(array([105.,  94.,  78., 104., 108., 106.,  94., 107.,  98., 106.]),\n",
       " array([0.01358504, 0.63972386, 1.26586268, 1.8920015 , 2.51814032,\n",
       "        3.14427914, 3.77041796, 4.39655678, 5.0226956 , 5.64883442,\n",
       "        6.27497324]),\n",
       " <a list of 10 Patch objects>)"
      ]
     },
     "execution_count": 18,
     "metadata": {},
     "output_type": "execute_result"
    },
    {
     "data": {
      "image/png": "[encoded data removed]",
      "text/plain": [
       "<Figure size 432x288 with 1 Axes>"
      ]
     },
     "metadata": {
      "needs_background": "light"
     },
     "output_type": "display_data"
    }
   ],
   "source": [
    "phi_pol = rs.uniform(0, 2*np.pi, size=N_DP)\n",
    "cos_pol = rs.uniform(-1, 1, size=N_DP)\n",
    "sin_pol = np.sqrt(1 - cos_pol**2)\n"
   ]
  },
  {
   "cell_type": "code",
   "execution_count": null,
   "metadata": {},
   "outputs": [],
   "source": [
    "phi_pol = rs.uniform"
   ]
  },
  {
   "cell_type": "code",
   "execution_count": null,
   "metadata": {},
   "outputs": [],
   "source": []
  }
 ],
 "metadata": {
  "kernelspec": {
   "display_name": "Python 3",
   "language": "python",
   "name": "python3"
  },
  "language_info": {
   "codemirror_mode": {
    "name": "ipython",
    "version": 3
   },
   "file_extension": ".py",
   "mimetype": "text/x-python",
   "name": "python",
   "nbconvert_exporter": "python",
   "pygments_lexer": "ipython3",
   "version": "3.7.3"
  }
 },
 "nbformat": 4,
 "nbformat_minor": 4
}
