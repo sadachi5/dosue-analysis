{
 "cells": [
  {
   "cell_type": "markdown",
   "metadata": {},
   "source": [
    "# Importing & Configurations"
   ]
  },
  {
   "cell_type": "code",
   "execution_count": 1,
   "metadata": {},
   "outputs": [],
   "source": [
    "import os, sys\n",
    "import numpy as np\n",
    "import matplotlib.pyplot as plt\n",
    "import pandas as pd\n",
    "import copy"
   ]
  },
  {
   "cell_type": "code",
   "execution_count": 2,
   "metadata": {},
   "outputs": [],
   "source": [
    "datadir = './data'\n",
    "outdir = './output'"
   ]
  },
  {
   "cell_type": "markdown",
   "metadata": {},
   "source": [
    "# Define functions"
   ]
  },
  {
   "cell_type": "code",
   "execution_count": 3,
   "metadata": {},
   "outputs": [],
   "source": [
    "def fill_limit(ax, datafile, label, color, alpha=1., delimiter=',', xdata_log=True, ydata_log=True, mass_scale=1., chi_scale=1.):\n",
    "    mass, chi = np.loadtxt(datafile, delimiter = delimiter, unpack = True)\n",
    "    if xdata_log : mass = np.power(10., mass)\n",
    "    if ydata_log : chi  = np.power(10., chi)\n",
    "    mass *= mass_scale\n",
    "    chi  *= chi_scale\n",
    "    ax.plot(mass, chi, label=label, color=color)\n",
    "    upper = np.full(len(mass), 1.)\n",
    "    ax.plot(mass, upper, color=color)\n",
    "    ax.fill_between(mass, chi, upper, color=color, alpha=alpha)\n",
    "    return 0"
   ]
  },
  {
   "cell_type": "code",
   "execution_count": 4,
   "metadata": {
    "scrolled": true
   },
   "outputs": [],
   "source": [
    "def draw_plot(drawLegend=True, drawText=True):\n",
    "    fig = plt.figure(figsize=(7,4))\n",
    "    ax = fig.add_subplot(1,1,1)\n",
    "    \n",
    "    fill_limit(ax, f\"{datadir}/HPDM_by_shugo.txt\", \"Cosmological Limit\", 'c', 0.2, mass_scale=1e+3)\n",
    "\n",
    "    fill_limit(ax, f\"{datadir}/Redo_rev.txt\", \"Solar Lifetime\", 'r', 0.2, mass_scale=1e+3)\n",
    "\n",
    "    fill_limit(ax, f\"{datadir}/Haloscope_blue_0.txt\", \"Haloscope\", 'b', 0.4, mass_scale=1e+3)\n",
    "    fill_limit(ax, f\"{datadir}/Haloscope_blue_1.txt\", None, 'b', 0.4, mass_scale=1e+3)\n",
    "    fill_limit(ax, f\"{datadir}/Haloscope_blue_2.txt\", None, 'b', 0.4, mass_scale=1e+3)\n",
    "\n",
    "    #fill_limit(ax, f\"{datadir}/suzuki_hpdm.txt\", 'Suzuki et al.', 'g', 0.4, mass_scale=1e+3)\n",
    "\n",
    "    fill_limit(ax, f\"{datadir}/result_raw.txt\", 'Tomita et al.', 'k', 1.0, delimiter=None, xdata_log=False, ydata_log=False, mass_scale=1.e-6*1e+3)\n",
    "\n",
    "    if drawText:\n",
    "        ax.set_xlabel(\"Dark photon mass $m_\\gamma$ [meV]\", fontsize = 14)\n",
    "        ax.set_ylabel(\"Mixing parameter χ\", fontsize = 14)\n",
    "        ax.set_title(\"Constraints for DP-CDM at 95 % confidence level\", fontsize = 15)\n",
    "        pass\n",
    "    ax.set_xlim(10 ** -3, 10 ** 2)\n",
    "    #ax.set_xlim(10 ** -6, 10 ** -1)\n",
    "    ax.set_ylim(10 ** -11, 10 ** -8)\n",
    "    ax.set_xscale('log')\n",
    "    ax.set_yscale('log')\n",
    "    ax.get_xaxis().set_tick_params(labelsize=16)\n",
    "    ax.get_yaxis().set_tick_params(labelsize=16)\n",
    "    plt.tight_layout()\n",
    "    if drawLegend: ax.legend()\n",
    "    return fig, ax"
   ]
  },
  {
   "cell_type": "markdown",
   "metadata": {},
   "source": [
    "# Draw current exclusion limit"
   ]
  },
  {
   "cell_type": "code",
   "execution_count": 5,
   "metadata": {
    "scrolled": true
   },
   "outputs": [
    {
     "data": {
      "image/png": "[encoded data removed]",
      "text/plain": [
       "<Figure size 504x288 with 1 Axes>"
      ]
     },
     "metadata": {
      "needs_background": "light"
     },
     "output_type": "display_data"
    }
   ],
   "source": [
    "fig, ax = draw_plot()"
   ]
  },
  {
   "cell_type": "markdown",
   "metadata": {},
   "source": [
    "# Calculate the expected sensitivity"
   ]
  },
  {
   "cell_type": "markdown",
   "metadata": {},
   "source": [
    "### Assumption for NEP calculation"
   ]
  },
  {
   "cell_type": "code",
   "execution_count": 31,
   "metadata": {},
   "outputs": [],
   "source": [
    "k_B = 1.380649e-23  # boltzmann const. [J/K]\n",
    "Trx = 100 # Trx # DSB Trx is < 100K  for Nagoya SIS mixer from ミリ波受信機ワークショップ\n",
    "dnu = (200. * 1.e+9) * 1.e-6 # Peak width [Hz]\n",
    "Tload = 300 * 2# Maximum Tload x 2 (due to DSB)\n",
    "#Tload = 100 # Tload is supposed to be 100K.\n",
    "#Tload = 20 # Tload is supposed to be 20K.\n",
    "time = 60 # sec\n",
    "Aeff = (0.71/2.)**2*np.pi*0.5 # cm^2 # phi=0.71cm (VDI horn)\n",
    "#Aeff = (3./2.)**2*np.pi*0.5 # cm^2 # phi=3cm\n",
    "#Aeff = (5./2.)**2*np.pi*0.5 # cm^2 # phi=5cm\n",
    "Aeff_m = Aeff * 1.e-4 # m^2\n",
    "rho_CDM = 0.3 # GeV/cm^2\n",
    "alpha = np.sqrt(1./3.)"
   ]
  },
  {
   "cell_type": "markdown",
   "metadata": {},
   "source": [
    "### NEP calculation\n",
    "\n",
    "$$\n",
    "\\begin{align}\n",
    " T_{noise} &= T_{RX} + T_{load} \\tag{5}\\label{a} \\\\\n",
    " P_{noise} &= k_B T_{noise} \\Delta \\nu \\tag{6}\\label{b}\n",
    "\\end{align}\n",
    "$$\n",
    "\n",
    "<br>\n",
    "<br>\n",
    "$$\n",
    "\\begin{align}\n",
    " NEP &= \\sqrt{2 P_{noise} k_B T_{noise}} \\\\\n",
    "\\mathrm{(\\ref{b}) より}  &  \\\\\n",
    "     &= \\sqrt{2\\Delta\\nu} k_B T_{noise} \\\\\n",
    "     &= \\sqrt{2\\Delta\\nu} k_B (T_{rx}+T_{load}) \\\\\n",
    "\\end{align}\n",
    "$$\n",
    "注) $\\sqrt{2}$ は $NEP$ が 0.5 sec の時間積分でのノイズを表しているため。"
   ]
  },
  {
   "cell_type": "code",
   "execution_count": 32,
   "metadata": {},
   "outputs": [
    {
     "name": "stdout",
     "output_type": "stream",
     "text": [
      "NEP = 6.112394e-18 [W/sqrt(Hz)]\n"
     ]
    }
   ],
   "source": [
    "NEP = np.sqrt(2.*dnu) * k_B * (Trx + Tload) \n",
    "print(f'NEP = {NEP:e} [W/sqrt(Hz)]')"
   ]
  },
  {
   "cell_type": "markdown",
   "metadata": {},
   "source": [
    "## $\\chi$ calculation\n",
    "$$\n",
    "\\chi = 4.5 \\times 10^{-14} \n",
    " \\left( \\frac{P_{\\gamma^{\\prime}}}{10^{-23} \\mathrm{W}} \\right)^{1/2} \n",
    " \\left( \\frac{1 \\mathrm{m}^2}{A_{\\mathrm{eff}}} \\right)^{1/2} \n",
    " \\left( \\frac{0.3 \\mathrm{GeV/cm}^{3}}{\\rho_{\\mathrm{CDM,halo}}} \\right)^{1/2} \n",
    " \\left( \\frac{\\sqrt{2/3}}{\\alpha} \\right)\n",
    "$$"
   ]
  },
  {
   "cell_type": "code",
   "execution_count": 33,
   "metadata": {
    "scrolled": true
   },
   "outputs": [
    {
     "name": "stdout",
     "output_type": "stream",
     "text": [
      "dP = 7.891066e-19 [W]\n",
      "chi = 4.017973e-09\n"
     ]
    }
   ],
   "source": [
    "dP = NEP/np.sqrt(time)\n",
    "chi = 4.5e-14 * np.sqrt( dP/1.e-23 *  1/Aeff_m * 0.3/rho_CDM ) * np.sqrt(2./3.) / alpha\n",
    "print(f'dP = {dP:e} [W]')\n",
    "print(f'chi = {chi:e}')"
   ]
  },
  {
   "cell_type": "code",
   "execution_count": 20,
   "metadata": {},
   "outputs": [],
   "source": [
    "def freq_to_eV(freq_GHz): return 4.137e-6 * freq_GHz;"
   ]
  },
  {
   "cell_type": "code",
   "execution_count": 21,
   "metadata": {},
   "outputs": [
    {
     "data": {
      "image/png": "[encoded data removed]",
      "text/plain": [
       "<Figure size 504x288 with 1 Axes>"
      ]
     },
     "metadata": {
      "needs_background": "light"
     },
     "output_type": "display_data"
    }
   ],
   "source": [
    "#drawText=True\n",
    "drawText=False\n",
    "fig, ax = draw_plot(drawLegend=False, drawText=drawText)\n",
    "\n",
    "freq_min = 170. # GHz\n",
    "freq_max = 260. # GHz\n",
    "mass_min = freq_to_eV(freq_min)*1e+3 # meV\n",
    "mass_max = freq_to_eV(freq_max)*1e+3 # meV\n",
    "x = [mass_min, mass_max]\n",
    "y1 = [chi, chi]\n",
    "y2 = [1., 1.]\n",
    "\n",
    "ax.fill_between(x, y1, y2, color=\"m\", alpha=0.4)\n",
    "ax.plot([mass_min,mass_min], [chi,1.], color=\"m\")\n",
    "ax.plot([mass_max,mass_max], [chi,1.], color=\"m\")\n",
    "ax.plot(x, y1, color=\"m\")\n",
    "xlim = ax.get_xlim()\n",
    "ylim = ax.get_ylim()\n",
    "if drawText:\n",
    "    ax.text(10.**np.mean(np.log10(xlim))*0.1,5*ylim[0], f't={time} sec for each band', fontsize=14)\n",
    "    ax.text(10.**np.mean(np.log10(xlim))*0.1,2*ylim[0], f'Aeff={Aeff} cm$^2$, Trx={Trx} K, Tload={Tload} K', fontsize=14)"
   ]
  },
  {
   "cell_type": "code",
   "execution_count": 11,
   "metadata": {},
   "outputs": [],
   "source": [
    "if not os.path.isdir(outdir): os.mkdir(outdir)\n",
    "fig.savefig(\"output/constraints.pdf\")"
   ]
  },
  {
   "cell_type": "code",
   "execution_count": 12,
   "metadata": {},
   "outputs": [
    {
     "data": {
      "text/plain": [
       "[1, 1]"
      ]
     },
     "execution_count": 12,
     "metadata": {},
     "output_type": "execute_result"
    }
   ],
   "source": []
  },
  {
   "cell_type": "code",
   "execution_count": null,
   "metadata": {},
   "outputs": [],
   "source": []
  }
 ],
 "metadata": {
  "kernelspec": {
   "display_name": "Python 3 (ipykernel)",
   "language": "python",
   "name": "python3"
  },
  "language_info": {
   "codemirror_mode": {
    "name": "ipython",
    "version": 3
   },
   "file_extension": ".py",
   "mimetype": "text/x-python",
   "name": "python",
   "nbconvert_exporter": "python",
   "pygments_lexer": "ipython3",
   "version": "3.8.10"
  },
  "toc": {
   "base_numbering": 1,
   "nav_menu": {},
   "number_sections": true,
   "sideBar": true,
   "skip_h1_title": false,
   "title_cell": "Table of Contents",
   "title_sidebar": "Contents",
   "toc_cell": false,
   "toc_position": {},
   "toc_section_display": true,
   "toc_window_display": false
  }
 },
 "nbformat": 4,
 "nbformat_minor": 2
}
